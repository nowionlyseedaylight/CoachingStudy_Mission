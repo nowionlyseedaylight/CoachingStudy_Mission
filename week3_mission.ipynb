{
  "nbformat": 4,
  "nbformat_minor": 0,
  "metadata": {
    "colab": {
      "name": "week3 mission.ipynb",
      "provenance": [],
      "authorship_tag": "ABX9TyP8SB7ZCchZtrjwXXhUQ4QA"
    },
    "kernelspec": {
      "name": "python3",
      "display_name": "Python 3"
    },
    "language_info": {
      "name": "python"
    }
  },
  "cells": [
    {
      "cell_type": "code",
      "execution_count": null,
      "metadata": {
        "colab": {
          "base_uri": "https://localhost:8080/"
        },
        "id": "spWYxPJPtxmv",
        "outputId": "8926d5cc-ce5e-4cb7-f0f2-b055ffe3af38"
      },
      "outputs": [
        {
          "output_type": "stream",
          "name": "stdout",
          "text": [
            "6\n"
          ]
        }
      ],
      "source": [
        "import numpy as np\n",
        "u = np.array([-1, 2, -3])\n",
        "print(np.abs(u).sum())"
      ]
    },
    {
      "cell_type": "code",
      "source": [
        "import numpy as np\n",
        "u = np.array([-6,8])\n",
        "print(np.linalg.norm(u))"
      ],
      "metadata": {
        "colab": {
          "base_uri": "https://localhost:8080/"
        },
        "id": "5oEj7tkdt-c8",
        "outputId": "79bf395f-173b-4d1a-8614-632b0b7593bd"
      },
      "execution_count": null,
      "outputs": [
        {
          "output_type": "stream",
          "name": "stdout",
          "text": [
            "10.0\n"
          ]
        }
      ]
    },
    {
      "cell_type": "code",
      "source": [
        "import numpy as np\n",
        "u = np.array([-3, -4])\n",
        "print(np.linalg.norm(u))"
      ],
      "metadata": {
        "colab": {
          "base_uri": "https://localhost:8080/"
        },
        "id": "Mg1S-ydtutXj",
        "outputId": "078add68-483f-47a6-fd54-e13003fb75ad"
      },
      "execution_count": null,
      "outputs": [
        {
          "output_type": "stream",
          "name": "stdout",
          "text": [
            "5.0\n"
          ]
        }
      ]
    },
    {
      "cell_type": "code",
      "source": [
        "v1=np.array([1, -1, 1, -1])\n",
        "v2=np.array([4, -4, 4, -4])\n",
        "np.dot(v1, v2)\n",
        "np.inner(v1, v2)"
      ],
      "metadata": {
        "colab": {
          "base_uri": "https://localhost:8080/"
        },
        "id": "M_ELGXpgvIA0",
        "outputId": "8b6939a0-74da-42c2-ed9e-e16b2f7de158"
      },
      "execution_count": null,
      "outputs": [
        {
          "output_type": "execute_result",
          "data": {
            "text/plain": [
              "16"
            ]
          },
          "metadata": {},
          "execution_count": 4
        }
      ]
    },
    {
      "cell_type": "markdown",
      "source": [
        "Q1. 본격적으로 Numpy와 친해지기 위해서 다양한 연산을 연습해볼 예정입니다. 무작위의 데이터를 가 진 5x3의 행렬을 가지는 numpy array와 3x2 행렬을 가지는 numpy array를 만든 후 행열곱 연산을 진행해보세요. "
      ],
      "metadata": {
        "id": "kFYHZ7zc1HD2"
      }
    },
    {
      "cell_type": "code",
      "source": [
        "import numpy as np\n",
        "arr1 = np.random.rand(5,3)\n",
        "arr2 = np.random.rand(3,2)\n",
        "\n",
        "dot=np.dot(arr1, arr2)  # dot 메소드\n",
        "\n",
        "print(dot, dot.shape)"
      ],
      "metadata": {
        "colab": {
          "base_uri": "https://localhost:8080/"
        },
        "id": "0MNCHZ221KE7",
        "outputId": "a4300a11-b356-43f7-ba9b-f5b0f6219ca1"
      },
      "execution_count": null,
      "outputs": [
        {
          "output_type": "stream",
          "name": "stdout",
          "text": [
            "[[0.5527074  1.18076936]\n",
            " [0.72344828 1.59101599]\n",
            " [0.41328745 0.66233846]\n",
            " [0.50967973 1.31204728]\n",
            " [0.45356436 0.98714243]] (5, 2)\n"
          ]
        }
      ]
    },
    {
      "cell_type": "markdown",
      "source": [
        "Q2. 두번째로는 numpy에서 자주 사용하는 concatenate 연산에 대한 미션을 수행해보겠습니다. 이제 Numpy에서 사용하는 2개의 numpy array가 있을때, 두 numpy array의 concatenate 연산을 구해보세요.  \n",
        "\n",
        "axis는 0, 1 두개로 연산한 결과를 출력해보세요.\n",
        "각 데이터가 어떤 형태로 더해지는지 확인해보세요."
      ],
      "metadata": {
        "id": "UrWdI7m-1Kfw"
      }
    },
    {
      "cell_type": "code",
      "source": [
        "arr1 = np.array([[5, 7], [9, 11]], float)\n",
        "arr2 = np.array([[2, 4], [6, 8]], float)\n",
        "\n",
        "concat_1 = np.concatenate((arr1, arr2), axis=0)\n",
        "concat_2 = np.concatenate((arr1, arr2), axis=1)\n",
        "\n",
        "print(concat_1)\n",
        "print(concat_2)"
      ],
      "metadata": {
        "colab": {
          "base_uri": "https://localhost:8080/"
        },
        "id": "eLcX-jIy1PFg",
        "outputId": "5588bc15-75f5-43e2-de9a-fa399f0f9249"
      },
      "execution_count": null,
      "outputs": [
        {
          "output_type": "stream",
          "name": "stdout",
          "text": [
            "[[ 5.  7.]\n",
            " [ 9. 11.]\n",
            " [ 2.  4.]\n",
            " [ 6.  8.]]\n",
            "[[ 5.  7.  2.  4.]\n",
            " [ 9. 11.  6.  8.]]\n"
          ]
        }
      ]
    },
    {
      "cell_type": "markdown",
      "source": [
        "Q3. 3번부터 5번까지의 미션는 Numpy를 이용해서 정답값을 예측해보는 linear regression을 구현해 보는 미션입니다. 첫번째 단계로 데이터를 준비해보도록 하겠습니다. 아래와 같이 데이터가 주어져있을 때, 경사하강법을 위한 데이터를 분리해보세요.\n",
        "\n",
        "주어진 xy 데이터를 이용해서 학습과 정답 데이터를 준비해보세요."
      ],
      "metadata": {
        "id": "iF1xlRhZ1Pmv"
      }
    },
    {
      "cell_type": "code",
      "source": [
        "import numpy as np\n",
        "\n",
        "xy = np.array([[1., 2., 3., 4., 5., 6.],[10., 20., 30., 40., 50., 60.]])\n",
        "\n",
        "x_train = xy[0]\n",
        "y_train = xy[1]\n",
        "\n",
        "print(x_train, x_train.shape)\n",
        "print(y_train, y_train.shape)"
      ],
      "metadata": {
        "colab": {
          "base_uri": "https://localhost:8080/"
        },
        "id": "b5PsYD-m1S_H",
        "outputId": "a9849de3-32c9-4c3e-8e16-0e832d0fcb22"
      },
      "execution_count": null,
      "outputs": [
        {
          "output_type": "stream",
          "name": "stdout",
          "text": [
            "[1. 2. 3. 4. 5. 6.] (6,)\n",
            "[10. 20. 30. 40. 50. 60.] (6,)\n"
          ]
        }
      ]
    },
    {
      "cell_type": "markdown",
      "source": [
        "Q4. 경사 하강법 구현을 위해서 위에서 분리한 x_train 데이터와 계산될 weight, bias 값을 정의해보세요. 여기서 구현한 weight와 bias 는 linear regression 계산을 진행할시 직선의 기울기와 y 절편의 값이 됩니다.\n",
        "\n",
        "numpy 내의 random 함수를 이용해보세요."
      ],
      "metadata": {
        "id": "SO9kemvU1ThT"
      }
    },
    {
      "cell_type": "code",
      "source": [
        "beta_gd = np.random.rand(1)\n",
        "bias = np.random.rand(1)\n",
        "\n",
        "print(beta_gd, bias)"
      ],
      "metadata": {
        "colab": {
          "base_uri": "https://localhost:8080/"
        },
        "id": "pvZ6ONrT1WfW",
        "outputId": "55d5a63d-1380-4741-9f1b-07974c6bc306"
      },
      "execution_count": null,
      "outputs": [
        {
          "output_type": "stream",
          "name": "stdout",
          "text": [
            "[0.37182568] [0.09345813]\n"
          ]
        }
      ]
    },
    {
      "cell_type": "markdown",
      "source": [
        "Q5. 이제 최종적으로 linear regression을 경사하강법으로 학습하는 코드를 구현해봅시다. 경사하강법 구현을 위한 학습 Loop를 구현해보세요. 최종적으로 1000회 반복했을 시에 결과를 출력하세요.\n",
        "\n",
        "단, Error는 차이의 제곱을 이용해서 계산해주세요.\n",
        "Gradient 값은 우리가 예측하는 각 변수에 대한 미분값입니다."
      ],
      "metadata": {
        "id": "2WJyzxlZ1XCd"
      }
    },
    {
      "cell_type": "code",
      "source": [
        "import numpy as np\n",
        "\n",
        "xy = np.array([[1.,2.,3.,4.,5.,6.], [3., 6., 9., 12., 15., 18.]])\n",
        "\n",
        "x_train = xy[0]\n",
        "y_train = xy[1]\n",
        "\n",
        "beta_gd = np.random.rand(1)\n",
        "bias = np.random.rand(1)\n",
        "\n",
        "learning_rate = 0.01\n",
        "\n",
        "for i in range(1000):\n",
        "  pred = (x_train*beta_gd)+bias\n",
        "  error = ((pred - y_train)**2).mean()\n",
        "\n",
        "  gd_w = ((pred - y_train)*2*x_train).mean()\n",
        "  gd_b = ((pred - y_train)*2).mean()\n",
        "\n",
        "  beta_gd -= learning_rate*gd_w\n",
        "  bias-= learning_rate*gd_b\n",
        "\n",
        "  if i%100==0:\n",
        "    print('Epoch ({:10d}/1000) error: {:10f}, beta_gd: {:10f}, bias: {:10f}'.format(i, error, beta_gd.item(), bias.item()))"
      ],
      "metadata": {
        "colab": {
          "base_uri": "https://localhost:8080/"
        },
        "id": "i6WJdJ5b1Zw2",
        "outputId": "95e35c11-a36f-40dd-8e28-d834cd22e33c"
      },
      "execution_count": null,
      "outputs": [
        {
          "output_type": "stream",
          "name": "stdout",
          "text": [
            "Epoch (         0/1000) error:  76.644878, beta_gd:   1.337869, bias:   0.573308\n",
            "Epoch (       100/1000) error:   0.077567, beta_gd:   2.852242, bias:   0.632582\n",
            "Epoch (       200/1000) error:   0.037334, beta_gd:   2.897490, bias:   0.438868\n",
            "Epoch (       300/1000) error:   0.017970, beta_gd:   2.928881, bias:   0.304474\n",
            "Epoch (       400/1000) error:   0.008649, beta_gd:   2.950660, bias:   0.211236\n",
            "Epoch (       500/1000) error:   0.004163, beta_gd:   2.965769, bias:   0.146550\n",
            "Epoch (       600/1000) error:   0.002004, beta_gd:   2.976251, bias:   0.101672\n",
            "Epoch (       700/1000) error:   0.000964, beta_gd:   2.983524, bias:   0.070537\n",
            "Epoch (       800/1000) error:   0.000464, beta_gd:   2.988569, bias:   0.048937\n",
            "Epoch (       900/1000) error:   0.000223, beta_gd:   2.992070, bias:   0.033951\n"
          ]
        }
      ]
    }
  ]
}